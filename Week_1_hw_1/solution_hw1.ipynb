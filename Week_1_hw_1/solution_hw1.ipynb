{
 "cells": [
  {
   "cell_type": "code",
   "execution_count": 1,
   "id": "1fbdb3b0",
   "metadata": {},
   "outputs": [],
   "source": [
    "import numpy as np\n",
    "import pandas as pd"
   ]
  },
  {
   "cell_type": "code",
   "execution_count": 2,
   "id": "32cc469a",
   "metadata": {},
   "outputs": [],
   "source": [
    "df = pd.read_csv('green_tripdata_2019-01.csv')"
   ]
  },
  {
   "cell_type": "code",
   "execution_count": 3,
   "id": "616aa3a2",
   "metadata": {},
   "outputs": [
    {
     "data": {
      "text/plain": [
       "0         2018-12-21 15:18:57\n",
       "1         2019-01-01 00:16:32\n",
       "2         2019-01-01 00:31:38\n",
       "3         2019-01-01 01:04:54\n",
       "4         2019-01-01 00:39:43\n",
       "                 ...         \n",
       "630913    2019-01-31 23:22:59\n",
       "630914    2019-01-31 23:23:05\n",
       "630915    2019-01-31 23:36:14\n",
       "630916    2019-02-01 00:04:18\n",
       "630917    2019-01-31 23:26:06\n",
       "Name: lpep_dropoff_datetime, Length: 630918, dtype: object"
      ]
     },
     "execution_count": 3,
     "metadata": {},
     "output_type": "execute_result"
    }
   ],
   "source": [
    "df['lpep_dropoff_datetime']"
   ]
  },
  {
   "cell_type": "markdown",
   "id": "06975268",
   "metadata": {},
   "source": [
    "Q 1: How many taxi trips were totally made on January 15?\n"
   ]
  },
  {
   "cell_type": "code",
   "execution_count": 4,
   "id": "5e2a18c0",
   "metadata": {},
   "outputs": [],
   "source": [
    "df.lpep_pickup_datetime = pd.to_datetime(df.lpep_pickup_datetime)\n",
    "df.lpep_dropoff_datetime = pd.to_datetime(df.lpep_dropoff_datetime)"
   ]
  },
  {
   "cell_type": "code",
   "execution_count": 5,
   "id": "301dce4e",
   "metadata": {},
   "outputs": [],
   "source": [
    "df['lpep_pickup_datetime_date'] = pd.to_datetime(df.lpep_pickup_datetime).dt.date"
   ]
  },
  {
   "cell_type": "code",
   "execution_count": 6,
   "id": "bf3755fc",
   "metadata": {},
   "outputs": [],
   "source": [
    "df['lpep_dropoff_datetime_date'] = pd.to_datetime(df.lpep_dropoff_datetime).dt.date"
   ]
  },
  {
   "cell_type": "code",
   "execution_count": 8,
   "id": "7dc27374",
   "metadata": {},
   "outputs": [
    {
     "name": "stderr",
     "output_type": "stream",
     "text": [
      "/home/shivam/anaconda3/envs/mlflow_env/lib/python3.9/site-packages/pandas/core/ops/array_ops.py:73: FutureWarning: Comparison of Timestamp with datetime.date is deprecated in order to match the standard library behavior. In a future version these will be considered non-comparable. Use 'ts == pd.Timestamp(date)' or 'ts.date() == date' instead.\n",
      "  result = libops.scalar_compare(x.ravel(), y, op)\n"
     ]
    },
    {
     "data": {
      "text/plain": [
       "(20530, 22)"
      ]
     },
     "execution_count": 8,
     "metadata": {},
     "output_type": "execute_result"
    }
   ],
   "source": [
    "df[(df['lpep_dropoff_datetime_date'] ==pd.to_datetime(\"2019-01-15\")) & (df['lpep_pickup_datetime_date'] ==pd.to_datetime(\"2019-01-15\"))].shape"
   ]
  },
  {
   "cell_type": "markdown",
   "id": "1a363279",
   "metadata": {},
   "source": [
    "Which was the day with the largest trip distance?\n"
   ]
  },
  {
   "cell_type": "code",
   "execution_count": 9,
   "id": "8fde403d",
   "metadata": {},
   "outputs": [
    {
     "data": {
      "text/plain": [
       "lpep_pickup_datetime_date\n",
       "2019-01-25    83745.79\n",
       "2019-01-17    80241.16\n",
       "2019-01-11    79742.42\n",
       "2019-01-10    79530.83\n",
       "2019-01-16    78213.29\n",
       "2019-01-23    76901.52\n",
       "2019-01-18    76829.36\n",
       "2019-01-09    76689.42\n",
       "2019-01-24    75800.41\n",
       "2019-01-26    75098.03\n",
       "2019-01-04    74996.64\n",
       "2019-01-15    74856.26\n",
       "2019-01-29    74613.56\n",
       "2019-01-28    74053.50\n",
       "2019-01-03    73005.01\n",
       "2019-01-22    71712.73\n",
       "2019-01-08    71246.25\n",
       "2019-01-30    71180.07\n",
       "2019-01-31    70496.19\n",
       "2019-01-07    70191.41\n",
       "2019-01-14    69981.51\n",
       "2019-01-12    68087.38\n",
       "2019-01-02    66490.74\n",
       "2019-01-05    63917.11\n",
       "2019-01-19    63335.81\n",
       "2019-01-27    63249.70\n",
       "2019-01-06    61555.35\n",
       "2019-01-13    59211.84\n",
       "2019-01-01    54440.06\n",
       "2019-01-20    46980.27\n",
       "2019-01-21    43066.51\n",
       "2018-12-31       67.04\n",
       "2019-02-01       55.00\n",
       "2009-01-01       42.45\n",
       "2010-09-23       25.45\n",
       "2018-12-21        0.00\n",
       "2018-12-07        0.00\n",
       "2018-12-05        0.00\n",
       "2018-12-04        0.00\n",
       "Name: trip_distance, dtype: float64"
      ]
     },
     "execution_count": 9,
     "metadata": {},
     "output_type": "execute_result"
    }
   ],
   "source": [
    "df.groupby(by=['lpep_pickup_datetime_date'])['trip_distance'].sum().sort_values(ascending=False)"
   ]
  },
  {
   "cell_type": "markdown",
   "id": "c15e47ac",
   "metadata": {},
   "source": [
    "In 2019-01-01 how many trips had 2 and 3 passengers?\n"
   ]
  },
  {
   "cell_type": "code",
   "execution_count": 10,
   "id": "fa860a02",
   "metadata": {},
   "outputs": [
    {
     "name": "stderr",
     "output_type": "stream",
     "text": [
      "/home/shivam/anaconda3/envs/mlflow_env/lib/python3.9/site-packages/pandas/core/ops/array_ops.py:73: FutureWarning: Comparison of Timestamp with datetime.date is deprecated in order to match the standard library behavior. In a future version these will be considered non-comparable. Use 'ts == pd.Timestamp(date)' or 'ts.date() == date' instead.\n",
      "  result = libops.scalar_compare(x.ravel(), y, op)\n"
     ]
    },
    {
     "data": {
      "text/plain": [
       "1    12415\n",
       "2     1282\n",
       "5      616\n",
       "6      273\n",
       "3      254\n",
       "4      129\n",
       "0       21\n",
       "Name: passenger_count, dtype: int64"
      ]
     },
     "execution_count": 10,
     "metadata": {},
     "output_type": "execute_result"
    }
   ],
   "source": [
    "df[df['lpep_pickup_datetime_date'] ==  pd.to_datetime(\"2019-01-01\")]['passenger_count'].value_counts()"
   ]
  },
  {
   "cell_type": "markdown",
   "id": "47c62a7d",
   "metadata": {},
   "source": [
    "For the passengers picked up in the Astoria Zone which was the drop up zone that had the largest tip?"
   ]
  },
  {
   "cell_type": "code",
   "execution_count": 11,
   "id": "02b1a6a1",
   "metadata": {},
   "outputs": [
    {
     "data": {
      "text/plain": [
       "DOLocationID\n",
       "146    88.00\n",
       "43     30.00\n",
       "265    25.00\n",
       "130    25.00\n",
       "7      18.16\n",
       "       ...  \n",
       "136     0.00\n",
       "124     0.00\n",
       "119     0.00\n",
       "117     0.00\n",
       "139     0.00\n",
       "Name: tip_amount, Length: 221, dtype: float64"
      ]
     },
     "execution_count": 11,
     "metadata": {},
     "output_type": "execute_result"
    }
   ],
   "source": [
    "df[df['PULocationID']==7].groupby('DOLocationID')['tip_amount'].max().sort_values(ascending=False)"
   ]
  },
  {
   "cell_type": "code",
   "execution_count": null,
   "id": "67e5e928",
   "metadata": {},
   "outputs": [],
   "source": []
  }
 ],
 "metadata": {
  "kernelspec": {
   "display_name": "Python [conda env:mlflow_env]",
   "language": "python",
   "name": "conda-env-mlflow_env-py"
  },
  "language_info": {
   "codemirror_mode": {
    "name": "ipython",
    "version": 3
   },
   "file_extension": ".py",
   "mimetype": "text/x-python",
   "name": "python",
   "nbconvert_exporter": "python",
   "pygments_lexer": "ipython3",
   "version": "3.9.13"
  }
 },
 "nbformat": 4,
 "nbformat_minor": 5
}
